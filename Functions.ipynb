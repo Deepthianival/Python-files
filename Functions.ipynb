{
  "nbformat": 4,
  "nbformat_minor": 5,
  "metadata": {
    "kernelspec": {
      "display_name": "Python 3",
      "language": "python",
      "name": "python3"
    },
    "language_info": {
      "codemirror_mode": {
        "name": "ipython",
        "version": 3
      },
      "file_extension": ".py",
      "mimetype": "text/x-python",
      "name": "python",
      "nbconvert_exporter": "python",
      "pygments_lexer": "ipython3",
      "version": "3.8.8"
    },
    "colab": {
      "name": "Functions.ipynb",
      "provenance": []
    }
  },
  "cells": [
    {
      "cell_type": "code",
      "metadata": {
        "id": "610c6d6a",
        "outputId": "0dd79d57-a3e7-49d3-c3be-126beb273030",
        "colab": {
          "base_uri": "https://localhost:8080/"
        }
      },
      "source": [
        "\n",
        "def hello (str):\n",
        "     print(\"in function   \" + str)\n",
        "     print(\"after printing in function definition\")\n",
        "     return;\n",
        "    \n",
        "    \n",
        "print(\"1\")\n",
        "print(\"2\")\n",
        "hello(\"DEEPTHI\")\n",
        "hello(\"ANIVAL\")\n",
        "print(\"3\")\n",
        "    \n",
        "\n"
      ],
      "id": "610c6d6a",
      "execution_count": 1,
      "outputs": [
        {
          "output_type": "stream",
          "name": "stdout",
          "text": [
            "1\n",
            "2\n",
            "in function   DEEPTHI\n",
            "after printing in function definition\n",
            "in function   ANIVAL\n",
            "after printing in function definition\n",
            "3\n"
          ]
        }
      ]
    },
    {
      "cell_type": "code",
      "metadata": {
        "id": "fb2145fc",
        "outputId": "f4f47885-81cc-4454-93d8-d9bf173a39cb"
      },
      "source": [
        "def changeme( mylist ):\n",
        "   mylist.append([1,2,3,4]);\n",
        "   print (\"Values inside the function: \", mylist)\n",
        "   return;\n",
        "\n",
        "mylist = [10,20,30];\n",
        "changeme( mylist );\n",
        "print (\"Values outside the function: \", mylist)\n"
      ],
      "id": "fb2145fc",
      "execution_count": null,
      "outputs": [
        {
          "name": "stdout",
          "output_type": "stream",
          "text": [
            "Values inside the function:  [10, 20, 30, [1, 2, 3, 4]]\n",
            "Values outside the function:  [10, 20, 30, [1, 2, 3, 4]]\n"
          ]
        }
      ]
    },
    {
      "cell_type": "code",
      "metadata": {
        "id": "78748955",
        "outputId": "47aed780-2019-4ae8-8709-cfca443c2615"
      },
      "source": [
        "def changeme( mylist ):\n",
        "    print (\"BEFORE CHANGESValues inside the function: \", mylist)\n",
        "    mylist = [1,2,3,4]; \n",
        "    print (\"AFTER CHANGES Values inside the function: \", mylist)\n",
        "    return\n",
        "\n",
        "\n",
        "mylist1 = [10,20,30];\n",
        "changeme( mylist1 );\n",
        "print (\"Values outside the function: \", mylist1)"
      ],
      "id": "78748955",
      "execution_count": null,
      "outputs": [
        {
          "name": "stdout",
          "output_type": "stream",
          "text": [
            "BEFORE CHANGESValues inside the function:  [10, 20, 30]\n",
            "AFTER CHANGES Values inside the function:  [1, 2, 3, 4]\n",
            "Values outside the function:  [10, 20, 30]\n"
          ]
        }
      ]
    },
    {
      "cell_type": "code",
      "metadata": {
        "scrolled": true,
        "id": "3fd7b07c",
        "outputId": "5b763d84-5a26-4d6c-a71e-4798dcf3681f"
      },
      "source": [
        "def printme( str ):\n",
        "     print (str)\n",
        "     return;\n",
        "\n",
        "\n",
        "printme( str = \"My string\")"
      ],
      "id": "3fd7b07c",
      "execution_count": null,
      "outputs": [
        {
          "name": "stdout",
          "output_type": "stream",
          "text": [
            "My string\n"
          ]
        }
      ]
    },
    {
      "cell_type": "code",
      "metadata": {
        "id": "4f1aa13a",
        "outputId": "a1d2317b-e182-40d5-c725-ebc6da1638cf"
      },
      "source": [
        "def printinfo( name, age ):\n",
        "    print (\"Name: \", name)\n",
        "    print (\"Age \", age)\n",
        "    return;\n",
        "\n",
        "\n",
        "printinfo( age=50, name=\"miki\" )"
      ],
      "id": "4f1aa13a",
      "execution_count": null,
      "outputs": [
        {
          "name": "stdout",
          "output_type": "stream",
          "text": [
            "Name:  miki\n",
            "Age  50\n"
          ]
        }
      ]
    },
    {
      "cell_type": "code",
      "metadata": {
        "id": "31440757",
        "outputId": "e350b659-ad23-403b-9c05-ca6ac0e0b23c"
      },
      "source": [
        "def printinfo( name, age ):\n",
        "    print (\"Name: \", name)\n",
        "    print (\"Age \", age)\n",
        "    return;\n",
        "\n",
        "printinfo( \"miki\",50 )"
      ],
      "id": "31440757",
      "execution_count": null,
      "outputs": [
        {
          "name": "stdout",
          "output_type": "stream",
          "text": [
            "Name:  miki\n",
            "Age  50\n"
          ]
        }
      ]
    },
    {
      "cell_type": "code",
      "metadata": {
        "id": "686dee84",
        "outputId": "3d8b29cc-3841-4881-efd7-7389161c8c71"
      },
      "source": [
        "def printinfo( name, age ):\n",
        "    print (\"Name: \", name)\n",
        "    print (\"Age \", age)\n",
        "    return;\n",
        "\n",
        "printinfo( 50, \"miki\" )"
      ],
      "id": "686dee84",
      "execution_count": null,
      "outputs": [
        {
          "name": "stdout",
          "output_type": "stream",
          "text": [
            "Name:  50\n",
            "Age  miki\n"
          ]
        }
      ]
    },
    {
      "cell_type": "code",
      "metadata": {
        "id": "2e9d9fe4",
        "outputId": "80cd7045-7065-4b29-a4a5-b9d5038fdda5"
      },
      "source": [
        "def printinfo( name, age = 35 ):\n",
        "    print (\"Name: \", name)\n",
        "    print (\"Age \", age)\n",
        "    return;\n",
        "\n",
        "\n",
        "printinfo( age=50, name=\"miki\" )\n",
        "printinfo( name=\"miki\" )"
      ],
      "id": "2e9d9fe4",
      "execution_count": null,
      "outputs": [
        {
          "name": "stdout",
          "output_type": "stream",
          "text": [
            "Name:  miki\n",
            "Age  50\n",
            "Name:  miki\n",
            "Age  35\n"
          ]
        }
      ]
    },
    {
      "cell_type": "code",
      "metadata": {
        "id": "1897fba0",
        "outputId": "65ad46e9-7b41-4254-ee3c-6224bed92677"
      },
      "source": [
        "def printinfo( arg1, *vartuple ):\n",
        "     print (\"Output is: \")\n",
        "     print (\"arg1==\",arg1)\n",
        "     for var in vartuple:\n",
        "        print (var)\n",
        "     return;\n",
        "\n",
        "printinfo( 10,78 )\n",
        "printinfo( 70, 60, 50,90 )"
      ],
      "id": "1897fba0",
      "execution_count": null,
      "outputs": [
        {
          "name": "stdout",
          "output_type": "stream",
          "text": [
            "Output is: \n",
            "arg1== 10\n",
            "78\n",
            "Output is: \n",
            "arg1== 70\n",
            "60\n",
            "50\n",
            "90\n"
          ]
        }
      ]
    },
    {
      "cell_type": "code",
      "metadata": {
        "id": "55739efd",
        "outputId": "7bbb633a-ca04-4149-e4ea-aade597550a5"
      },
      "source": [
        "sum = lambda arg1, arg2: arg1 + arg2;\n",
        "\n",
        "print (\"Value of total : \", sum( 10, 20 ))\n",
        "print (\"Value of total : \", sum( 20, 20 ))"
      ],
      "id": "55739efd",
      "execution_count": null,
      "outputs": [
        {
          "name": "stdout",
          "output_type": "stream",
          "text": [
            "Value of total :  30\n",
            "Value of total :  40\n"
          ]
        }
      ]
    },
    {
      "cell_type": "code",
      "metadata": {
        "id": "b5e22453",
        "outputId": "d3d39f01-443d-4250-8024-12b6e6fd31a5"
      },
      "source": [
        "def sum( arg1, arg2 ):\n",
        "    total = arg1 + arg2\n",
        "    print (\"Inside the function : \", total)\n",
        "    return total;\n",
        "\n",
        "\n",
        "total1 = sum( 10, 20 );\n",
        "print (\"Outside the function : \", total1 )"
      ],
      "id": "b5e22453",
      "execution_count": null,
      "outputs": [
        {
          "name": "stdout",
          "output_type": "stream",
          "text": [
            "Inside the function :  30\n",
            "Outside the function :  30\n"
          ]
        }
      ]
    },
    {
      "cell_type": "code",
      "metadata": {
        "id": "97396c41",
        "outputId": "32e45cfb-7828-41dd-e942-75f886b6c2f8"
      },
      "source": [
        "total = 99; \n",
        "\n",
        "def sum( arg1, arg2 ):\n",
        "    total = arg1 + arg2; \n",
        "    print (\"Inside the function local total : \", total)\n",
        "    return total;\n",
        "\n",
        "\n",
        "sum( 10, 20 );\n",
        "print (\"Outside the function global total : \", total )"
      ],
      "id": "97396c41",
      "execution_count": null,
      "outputs": [
        {
          "name": "stdout",
          "output_type": "stream",
          "text": [
            "Inside the function local total :  30\n",
            "Outside the function global total :  99\n"
          ]
        }
      ]
    }
  ]
}