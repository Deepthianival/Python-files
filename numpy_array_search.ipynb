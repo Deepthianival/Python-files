{
  "nbformat": 4,
  "nbformat_minor": 5,
  "metadata": {
    "kernelspec": {
      "display_name": "Python 3",
      "language": "python",
      "name": "python3"
    },
    "language_info": {
      "codemirror_mode": {
        "name": "ipython",
        "version": 3
      },
      "file_extension": ".py",
      "mimetype": "text/x-python",
      "name": "python",
      "nbconvert_exporter": "python",
      "pygments_lexer": "ipython3",
      "version": "3.8.8"
    },
    "colab": {
      "name": "numpy array search.ipynb",
      "provenance": []
    }
  },
  "cells": [
    {
      "cell_type": "code",
      "metadata": {
        "id": "f85dc9df",
        "outputId": "06864ea0-d88f-4005-a347-b84c6f97aab1"
      },
      "source": [
        "import numpy as np\n",
        "\n",
        "arr = np.array([1, 2, 3, 4, 5, 4, 4])\n",
        "\n",
        "x = np.where(arr == 4)\n",
        "\n",
        "print(x) "
      ],
      "id": "f85dc9df",
      "execution_count": null,
      "outputs": [
        {
          "name": "stdout",
          "output_type": "stream",
          "text": [
            "(array([3, 5, 6], dtype=int64),)\n"
          ]
        }
      ]
    },
    {
      "cell_type": "code",
      "metadata": {
        "id": "da13152e",
        "outputId": "d7ef6e49-9504-4ed1-a8fb-259d373d4583"
      },
      "source": [
        "import numpy as np\n",
        "\n",
        "arr = np.array([1, 2, 3, 4, 5, 6, 7, 8])\n",
        "\n",
        "x = np.where(arr%2 == 0)\n",
        "\n",
        "print(x) "
      ],
      "id": "da13152e",
      "execution_count": null,
      "outputs": [
        {
          "name": "stdout",
          "output_type": "stream",
          "text": [
            "(array([1, 3, 5, 7], dtype=int64),)\n"
          ]
        }
      ]
    },
    {
      "cell_type": "code",
      "metadata": {
        "id": "0a83a0d0",
        "outputId": "0395e6d1-49e8-4c8f-9d1a-4c649e1bf1e9"
      },
      "source": [
        "import numpy as np\n",
        "\n",
        "arr = np.array([1, 2, 3, 4, 5, 6, 7, 8])\n",
        "\n",
        "x = np.where(arr%2 == 1)\n",
        "\n",
        "print(x) "
      ],
      "id": "0a83a0d0",
      "execution_count": null,
      "outputs": [
        {
          "name": "stdout",
          "output_type": "stream",
          "text": [
            "(array([0, 2, 4, 6], dtype=int64),)\n"
          ]
        }
      ]
    },
    {
      "cell_type": "code",
      "metadata": {
        "id": "a7105684",
        "outputId": "0f55700a-a663-4d18-949b-eb8db372fe5d"
      },
      "source": [
        "#The number 7 should be inserted on index 1 to remain the sort order.\n",
        "#The method starts the search from the left and returns the first index where the number 7 is no longer larger than the next value.\n",
        "\n",
        "import numpy as np\n",
        "\n",
        "arr = np.array([6, 7, 18, 19])\n",
        "\n",
        "x = np.searchsorted(arr,11)\n",
        "\n",
        "print(x) "
      ],
      "id": "a7105684",
      "execution_count": null,
      "outputs": [
        {
          "name": "stdout",
          "output_type": "stream",
          "text": [
            "2\n"
          ]
        }
      ]
    },
    {
      "cell_type": "code",
      "metadata": {
        "id": "fc4fb93a",
        "outputId": "866f9a05-e15d-417f-f915-6cc6f8f91f60"
      },
      "source": [
        "import numpy as np\n",
        "\n",
        "arr = np.array([6, 7, 18, 29])\n",
        "\n",
        "x = np.searchsorted(arr, 19, side='right')\n",
        "\n",
        "print(x) "
      ],
      "id": "fc4fb93a",
      "execution_count": null,
      "outputs": [
        {
          "name": "stdout",
          "output_type": "stream",
          "text": [
            "3\n"
          ]
        }
      ]
    },
    {
      "cell_type": "code",
      "metadata": {
        "id": "dcf91085",
        "outputId": "4135a272-b78f-4edd-8e3d-75deccef01c4"
      },
      "source": [
        "import numpy as np\n",
        "\n",
        "arr = np.array([1, 3, 5, 7])\n",
        "\n",
        "x = np.searchsorted(arr, [2, 4, 6])\n",
        "\n",
        "print(x) "
      ],
      "id": "dcf91085",
      "execution_count": null,
      "outputs": [
        {
          "name": "stdout",
          "output_type": "stream",
          "text": [
            "[1 2 3]\n"
          ]
        }
      ]
    }
  ]
}